{
 "cells": [
  {
   "cell_type": "code",
   "execution_count": 1,
   "metadata": {},
   "outputs": [],
   "source": [
    "\n",
    "song = 'My castle crumbled overnight\\nI brought a knife to a gunfight\\nThey took the crown, but its alright\\nAll the liars are calling me one\\nNobodys heard from me for months\\nIm doin better than I ever was\\nCause\\nMy babys fit like a daydream\\nWalking with his head down\\nIm the one hes walking to\\nSo call it what you want, yeah\\nCall it what you want to\\nMy babys fly like a jet stream\\nHigh above the whole scene\\nLoves me like Im brand new\\nSo call it what you want, yeah\\nCall it what you want to\\nAll my flowers grew back as thorns\\nWindows boarded up after the storm\\nHe built a fire just to keep me warm\\nAll the drama queens taking swings\\nAll the jokers dressing up as kings\\nThey fade to nothing when I look at him\\nAnd I know I make the same mistakes every time\\nBridges burn, I never learn\\nAt least I did one thing right\\nI did one thing right\\nIm laughing with my lover, makin forts under covers\\nTrust him like a brother\\nYeah, you know I did one thing right\\nStarry eyes sparkin up my darkest night\\nMy babys fit like a daydream\\nWalking with his head down\\nIm the one hes walking to\\nSo call it what you want, yeah\\nCall it what you want to\\nMy babys fly like a jet stream\\nHigh above the whole scene\\nLoves me like Im brand new\\nSo call it what you want, yeah\\nCall it what you want to\\nI want to wear his initial on a chain round my neck\\nChain round my neck\\nNot because he owns me\\nBut cause he really knows me\\nWhich is more than they can say, I\\nI recall late November\\nHolding my breath, slowly, I said\\nYou dont need to save me\\nBut would you run away with me?\\nYes \\nMy babys fit like a daydream\\nWalking with his head down\\nIm the one hes walking to\\nSo call it what you want, yeah\\nCall it what you want to\\nMy babys fly like a jet stream\\nHigh above the whole scene\\nLoves me like Im brand new\\nSo call it what you want, yeah\\nCall it what you want to\\n\\nCall it what you want, yeah\\nCall it what you want... to'\n",
    "# create phonetic consistency evaluation for song lyrics\n",
    "# create a function that will take in a string of text and return a score for phonetic consistency\n",
    "import pronouncing\n",
    "\n"
   ]
  },
  {
   "cell_type": "code",
   "execution_count": 17,
   "metadata": {},
   "outputs": [
    {
     "name": "stdout",
     "output_type": "stream",
     "text": [
      "2\n"
     ]
    }
   ],
   "source": [
    "# check if the internal rhyme scheme is consistent throughtout the song and give a score\n",
    "def internal_rhyme(text):\n",
    "    # split the text into lines\n",
    "    lines = text.split('\\n')\n",
    "    # create a score variable\n",
    "    scores = 0\n",
    "    # loop through the lines\n",
    "    for line in lines:\n",
    "        # split the line into words\n",
    "        words = line.split(' ')\n",
    "        # create a list to store the rhyming sounds\n",
    "        rhymes = []\n",
    "        # loop through the words\n",
    "        for word in words:\n",
    "            for word2 in words:\n",
    "                # check if the words rhyme\n",
    "                if pronouncing.rhymes(word):\n",
    "                    # check if word2 is in the list of rhymes\n",
    "                    if word2 in pronouncing.rhymes(word):\n",
    "                        # if they do, add the word to the list of rhymes\n",
    "                        scores += 1\n",
    "    # return the score\n",
    "    return scores\n",
    "\n"
   ]
  },
  {
   "cell_type": "code",
   "execution_count": null,
   "metadata": {},
   "outputs": [],
   "source": [
    "# check if the end rhyme scheme is consistent throughout the song and give a score\n",
    "def end_rhyme(text):\n",
    "    # split the text into lines\n",
    "    lines = text.split('\\n')\n",
    "    # create a score variable\n",
    "    scores = 0\n",
    "    # list to keep track of rhyme scheme \"AABBABAB\"\n",
    "    rhyme_scheme = []\n",
    "    # list of last words\n",
    "    last_words = []\n",
    "    # loop through the lines\n",
    "    for line in lines:\n",
    "        # split the line into words\n",
    "        words = line.split(' ')\n",
    "        # get last word of each line\n",
    "        last_word = words[-1]\n",
    "        # add the last word to the list of last words\n",
    "        last_words.append(last_word)\n",
    "    # loop through the last words\n",
    "    for word in last_words:\n",
    "        for word2 in last_words:\n",
    "            # check if the words rhyme\n",
    "            if pronouncing.rhymes(word):\n",
    "                # check if word2 is in the list of rhymes\n",
    "                if word2 in pronouncing.rhymes(word):\n",
    "                    # if they do, add the word to the list of rhymes\n",
    "                    scores += 1\n",
    "                    # add the rhyme to the rhyme scheme\n",
    "                    rhyme_scheme.append('A')\n",
    "    # check if the rhyme scheme has a pattern that repeats\n",
    "     \n",
    "    # return the score\n",
    "    return scores\n",
    "\n",
    "\n"
   ]
  },
  {
   "cell_type": "code",
   "execution_count": 52,
   "metadata": {},
   "outputs": [
    {
     "data": {
      "text/plain": [
       "[['1', '1', '0', '1', '0', '1', '0', '1'],\n",
       " ['1', '1', '0', '1', '1', '0', '1', '2'],\n",
       " ['1', '1', '0', '1', '1', '2', '1'],\n",
       " ['1', '0', '1', '0', '1', '1', '0', '1', '1'],\n",
       " ['1', '1', '1', '1', '1'],\n",
       " ['1', '1', '0', '1', '1', '1', '0', '1'],\n",
       " ['1'],\n",
       " ['1', '1', '1', '0', '1', '2'],\n",
       " ['1', '0', '1', '1', '1', '1'],\n",
       " ['1', '0', '1', '1', '0', '1'],\n",
       " ['1', '1', '1', '1', '1', '1'],\n",
       " ['1', '1', '1', '1', '1', '1'],\n",
       " ['1', '1', '1', '0', '1', '1'],\n",
       " ['1', '0', '1', '0', '1', '1'],\n",
       " ['1', '1', '1', '1', '1', '1'],\n",
       " ['1', '1', '1', '1', '1', '1'],\n",
       " ['1', '1', '1', '1', '1', '1'],\n",
       " ['1', '1', '1', '0', '1', '1', '1', '1'],\n",
       " ['1', '0', '1', '0', '1', '1', '0', '0', '1'],\n",
       " ['1', '1', '0', '1', '0', '1', '1', '1', '1', '1'],\n",
       " ['1', '0', '1', '0', '1', '1', '0', '1'],\n",
       " ['1', '0', '1', '0', '1', '0', '1', '1', '1'],\n",
       " ['1', '1', '1', '1', '0', '1', '1', '1', '1', '1'],\n",
       " ['0', '1', '1', '1', '1', '0', '1', '0', '1', '1', '0', '0', '1'],\n",
       " ['1', '0', '1', '1', '0', '1'],\n",
       " ['1', '1', '1', '1', '1', '1', '1'],\n",
       " ['1', '1', '1', '1', '1'],\n",
       " ['1', '1', '0', '1', '1', '1', '0', '1', '1', '0', '1', '0'],\n",
       " ['1', '1', '1', '0', '1', '0'],\n",
       " ['1', '1', '1', '1', '1', '1', '1'],\n",
       " ['1', '2', '1', '1', '1', '1', '0', '1'],\n",
       " ['1', '1', '1', '0', '1', '2'],\n",
       " ['1', '0', '1', '1', '1', '1'],\n",
       " ['1', '0', '1', '1', '0', '1'],\n",
       " ['1', '1', '1', '1', '1', '1'],\n",
       " ['1', '1', '1', '1', '1', '1'],\n",
       " ['1', '1', '1', '0', '1', '1'],\n",
       " ['1', '0', '1', '0', '1', '1'],\n",
       " ['1', '1', '1', '1', '1', '1'],\n",
       " ['1', '1', '1', '1', '1', '1'],\n",
       " ['1', '1', '1', '1', '1', '1'],\n",
       " ['1', '1', '1', '1', '1', '2', '1', '0', '1', '0', '1', '1', '1', '1'],\n",
       " ['1', '1', '1', '1'],\n",
       " ['1', '0', '1', '1', '1', '1'],\n",
       " ['1', '1', '1', '1', '0', '1', '1'],\n",
       " ['1', '1', '1', '1', '1', '1', '1'],\n",
       " ['1', '1', '2', '1', '0', '1', '0'],\n",
       " ['1', '0', '1', '1', '1'],\n",
       " ['1', '1', '1', '1', '1'],\n",
       " ['1', '1', '1', '1', '0', '1', '1'],\n",
       " ['1'],\n",
       " ['1', '1', '1', '0', '1', '2'],\n",
       " ['1', '0', '1', '1', '1', '1'],\n",
       " ['1', '0', '1', '1', '0', '1'],\n",
       " ['1', '1', '1', '1', '1', '1'],\n",
       " ['1', '1', '1', '1', '1', '1'],\n",
       " ['1', '1', '1', '0', '1', '1'],\n",
       " ['1', '0', '1', '0', '1', '1'],\n",
       " ['1', '1', '1', '1', '1', '1'],\n",
       " ['1', '1', '1', '1', '1', '1'],\n",
       " ['1', '1', '1', '1', '1', '1'],\n",
       " [],\n",
       " ['1', '1', '1', '1', '1'],\n",
       " ['1', '1', '1', '1', '1']]"
      ]
     },
     "execution_count": 52,
     "metadata": {},
     "output_type": "execute_result"
    }
   ],
   "source": [
    "# check meter consistency throughout the song and give a score\n",
    "def meter_pattern(text):\n",
    "    # split the text into lines\n",
    "    lines = text.split('\\n')\n",
    "    # list to keep track of meter\n",
    "    meter = []\n",
    "    # loop through the lines\n",
    "    for line in lines:\n",
    "        # split the line into words\n",
    "        words = line.split(' ')\n",
    "        # create a list to store the stress pattern in each word\n",
    "        stressnum = []\n",
    "        # loop through the words\n",
    "        for word in words:\n",
    "            # get stress information for each word\n",
    "            stress = pronouncing.stresses_for_word(word)\n",
    "            # check if the word has stress information\n",
    "            if stress:\n",
    "                # get the stress pattern for the word\n",
    "                stress = list(stress[0])\n",
    "                # add the stress pattern components to the list of stress patterns\n",
    "                for stress1 in stress:\n",
    "                    stressnum.append(stress1)\n",
    "        # add the list of syllables to the list of meter\n",
    "        meter.append(stressnum)\n",
    "\n",
    "    return meter\n",
    "example = 'My castle crumbled overnight\\nI brought a knife to a gunfight'\n",
    "\n",
    "meter_pattern(song)"
   ]
  },
  {
   "cell_type": "code",
   "execution_count": 56,
   "metadata": {},
   "outputs": [
    {
     "data": {
      "text/plain": [
       "{'11010101': 1,\n",
       " '11011012': 1,\n",
       " '1101121': 1,\n",
       " '101011011': 1,\n",
       " '11111': 5,\n",
       " '11011101': 1,\n",
       " '1': 2,\n",
       " '111012': 3,\n",
       " '101111': 4,\n",
       " '101101': 4,\n",
       " '111111': 15,\n",
       " '111011': 3,\n",
       " '101011': 3,\n",
       " '11101111': 1,\n",
       " '101011001': 1,\n",
       " '1101011111': 1,\n",
       " '10101101': 1,\n",
       " '101010111': 1,\n",
       " '1111011111': 1,\n",
       " '0111101011001': 1,\n",
       " '1111111': 3,\n",
       " '110111011010': 1,\n",
       " '111010': 1,\n",
       " '12111101': 1,\n",
       " '11111210101111': 1,\n",
       " '1111': 1,\n",
       " '1111011': 2,\n",
       " '1121010': 1,\n",
       " '10111': 1,\n",
       " '': 1}"
      ]
     },
     "execution_count": 56,
     "metadata": {},
     "output_type": "execute_result"
    }
   ],
   "source": [
    "# calculate the frequency of each stress pattern in the song and return a score\n",
    "def stress_freq(text):\n",
    "    # get the meter for the song\n",
    "    meter = meter_pattern(text)\n",
    "    # create score variable\n",
    "    score = 0\n",
    "    # create a dictionary to store the frequency of each stress pattern\n",
    "    stress_freq = {}\n",
    "    # loop through the meter\n",
    "    for line in meter:\n",
    "        # convert the list of stress patterns to a string\n",
    "        line = ''.join(line)\n",
    "        # check if the stress pattern is in the dictionary\n",
    "        if line in stress_freq:\n",
    "            # if it is, add one to the count\n",
    "            stress_freq[line] += 1\n",
    "        else:\n",
    "            # if it is not, add it to the dictionary\n",
    "            stress_freq[line] = 1\n",
    "    # return score \n",
    "\n",
    "stress_freq(song)"
   ]
  },
  {
   "cell_type": "code",
   "execution_count": 43,
   "metadata": {},
   "outputs": [
    {
     "data": {
      "text/plain": [
       "0.4608433734939759"
      ]
     },
     "execution_count": 43,
     "metadata": {},
     "output_type": "execute_result"
    }
   ],
   "source": [
    "# compute lexical diversity of the song\n",
    "def lexical_diversity(text):\n",
    "    # split the text into words\n",
    "    words = text.split(' ')\n",
    "    # get the number of unique words\n",
    "    unique_words = len(set(words))\n",
    "    # get the total number of words\n",
    "    total_words = len(words)\n",
    "    # calculate the lexical diversity\n",
    "    diversity = unique_words / total_words\n",
    "    # return the lexical diversity\n",
    "    return diversity\n",
    "\n",
    "lexical_diversity(song)"
   ]
  }
 ],
 "metadata": {
  "kernelspec": {
   "display_name": "Python 3",
   "language": "python",
   "name": "python3"
  },
  "language_info": {
   "codemirror_mode": {
    "name": "ipython",
    "version": 3
   },
   "file_extension": ".py",
   "mimetype": "text/x-python",
   "name": "python",
   "nbconvert_exporter": "python",
   "pygments_lexer": "ipython3",
   "version": "3.11.7"
  }
 },
 "nbformat": 4,
 "nbformat_minor": 2
}
